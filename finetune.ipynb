{
  "cells": [
    {
      "cell_type": "markdown",
      "metadata": {
        "id": "fXnq08ZVNMAh"
      },
      "source": [
        "# ติดตั้ง"
      ]
    },
    {
      "cell_type": "code",
      "execution_count": null,
      "metadata": {
        "id": "tTdQJcckmuZ4"
      },
      "outputs": [],
      "source": [
        "!git clone https://github.com/VYNCX/F5-TTS-THAI.git\n",
        "%cd F5-TTS-THAI\n",
        "!pip install -e ."
      ]
    },
    {
      "cell_type": "markdown",
      "metadata": {
        "id": "94MRyRcQeJ0I"
      },
      "source": [
        "# ฝึกอบรม หรือ Finetune"
      ]
    },
    {
      "cell_type": "markdown",
      "metadata": {
        "id": "Gl2IVGTBhuro"
      },
      "source": [
        "ดาวน์โหลด Pretrained โมเดล สำหรับ Finetune โมเดลภาษาไทยเท่านั้น\n",
        "- จำตำแหน่ง Model \"/content/F5-TTS-THAI/pretrained_model/model_1000000.pt\"\n",
        "- และนำไปใส่ในช่อง Pretrained Checkpoint ในแท็บ ฝึกอบรม"
      ]
    },
    {
      "cell_type": "code",
      "execution_count": null,
      "metadata": {
        "id": "o6pxkXL0hnSw"
      },
      "outputs": [],
      "source": [
        "!mkdir -p /content/F5-TTS-THAI/pretrained_model\n",
        "!wget https://huggingface.co/VIZINTZOR/F5-TTS-THAI/resolve/main/model_1000000.pt -O /content/F5-TTS-THAI/pretrained_model/model_1000000.pt"
      ]
    },
    {
      "cell_type": "markdown",
      "metadata": {
        "id": "vmU0eG-mjmHp"
      },
      "source": [
        "เปิด Web-UI"
      ]
    },
    {
      "cell_type": "code",
      "execution_count": null,
      "metadata": {
        "id": "lKEt-pLfR413"
      },
      "outputs": [],
      "source": [
        "!f5-tts_finetune-gradio --share"
      ]
    }
  ],
  "metadata": {
    "accelerator": "GPU",
    "colab": {
      "gpuType": "T4",
      "provenance": []
    },
    "kernelspec": {
      "display_name": "Python 3",
      "name": "python3"
    },
    "language_info": {
      "name": "python"
    }
  },
  "nbformat": 4,
  "nbformat_minor": 0
}
